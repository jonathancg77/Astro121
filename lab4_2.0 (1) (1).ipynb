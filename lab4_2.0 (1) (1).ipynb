{
 "cells": [
  {
   "cell_type": "code",
   "execution_count": null,
   "metadata": {},
   "outputs": [],
   "source": [
    "import astro_coord as ac\n",
    "import numpy as np\n",
    "import matplotlib.pyplot as plt\n",
    "import astropy as ap\n",
    "from astropy.time import Time \n",
    "from astropy import coordinates\n",
    "from astropy import units as u\n",
    "import re #regex, if needed\n",
    "import time\n",
    "from threading import Timer\n",
    "from datetime import datetime\n",
    "from pytz import timezone\n",
    "import pytz\n",
    "import pandas as pd\n",
    "%matplotlib inline"
   ]
  },
  {
   "cell_type": "code",
   "execution_count": null,
   "metadata": {},
   "outputs": [],
   "source": [
    "def PST_to_uni(yr, mon, day, hr = 0, minute = 0,sec = 0):\n",
    "    return int(time.mktime(time.strptime(\n",
    "        str(yr) +'-'+str(mon)+'-'+str(day)+' '+str(hr)+':'+str(minute)+':'+str(sec), \n",
    "        '%Y-%m-%d %H:%M:%S')))"
   ]
  },
  {
   "cell_type": "code",
   "execution_count": null,
   "metadata": {},
   "outputs": [],
   "source": [
    "###Unix to PST\n",
    "def uni_to_PST(uni, fmt = '%Y-%m-%d %H:%M:%S %Z%z'):\n",
    "    '''\n",
    "    Converts unix time to PST\n",
    "    \n",
    "    uni: integer, unix time\n",
    "    fmt: str, format you would like to display your results (see datetime documentation\n",
    "    for details)\n",
    "    \n",
    "    return: time in PST. Made function vectorized so it can take arrays.\n",
    "    '''\n",
    "    return datetime.fromtimestamp(float(uni)).astimezone(\n",
    "        timezone('US/Pacific')).strftime(fmt)"
   ]
  },
  {
   "cell_type": "code",
   "execution_count": null,
   "metadata": {},
   "outputs": [],
   "source": [
    "def get_altaz(ra,dec,jd=None,lat = 37.9183, lon = -122.1067, alt = 304, equinox='J2000'):\n",
    "    \"\"\"\n",
    "    Return the altitude and azimuth of an object whose right ascension \n",
    "    and declination are known.\n",
    "    Parameters\n",
    "    ----------\n",
    "    ra : float, right ascension in degrees\n",
    "    dec: float, declination in degrees\n",
    "    jd : float, Julian Date, default=now\n",
    "    lat: float, latitude in degrees\n",
    "    lon: float, longitude in degrees\n",
    "    alt: float, altitude in m, \n",
    "    equinox : string, equinox of ra/dec coordinates.  default='J2000'\n",
    "    Returns\n",
    "    -------\n",
    "    alt : float, altitude in degrees\n",
    "    az : float, azimuth in degrees\n",
    "\n",
    "    \"\"\"\n",
    "    if jd: t = ap.time.Time(jd,format='jd')\n",
    "    else: t = ap.time.Time(time.time(),format='unix')\n",
    "    l = ap.coordinates.EarthLocation(lat=lat*u.deg,\n",
    "                        lon=lon*u.deg,height=alt*u.m)\n",
    "    f = ap.coordinates.AltAz(obstime=t,location=l)\n",
    "    c = ap.coordinates.SkyCoord(ra, dec, frame='fk5',unit='deg',equinox=equinox)\n",
    "    altaz = c.transform_to(f)\n",
    "    return altaz.alt.deg, altaz.az.deg"
   ]
  },
  {
   "cell_type": "code",
   "execution_count": null,
   "metadata": {},
   "outputs": [],
   "source": [
    "start = PST_to_uni(2018,4,17,hr=0,minute = 0, sec=0)\n",
    "end = PST_to_uni(2018,4,19,hr=0, minute= 0, sec = 0)\n",
    "UNIX = []\n",
    "while start < end :\n",
    "    start = start + 1800\n",
    "    UNIX.append(start)\n",
    "UNIX = np.asarray(UNIX)\n",
    "Julian = Time(UNIX, format='unix').jd"
   ]
  },
  {
   "cell_type": "code",
   "execution_count": null,
   "metadata": {},
   "outputs": [],
   "source": [
    "from time import strftime\n",
    "from datetime import datetime\n",
    "TIME = []\n",
    "for i in range(int(len(UNIX))):\n",
    "    x = datetime.fromtimestamp(int(str(int(UNIX[i])))).strftime('%Y-%m-%d %H:%M:%S')\n",
    "    TIME.append(x)\n"
   ]
  },
  {
   "cell_type": "markdown",
   "metadata": {},
   "source": [
    "### Converting Galactic Coordinate Boudaries to Altitude and Azimuth boundaries "
   ]
  },
  {
   "cell_type": "code",
   "execution_count": null,
   "metadata": {},
   "outputs": [],
   "source": [
    "S1_long = np.linspace(210,380,int((381-210)/2))\n",
    "S1_lat = np.zeros(len(S1_long))\n",
    "S2_lat = np.linspace(0,90,int(91./2))\n",
    "S2_long = []\n",
    "for l in range(int(len(S2_lat))):\n",
    "    l = 210\n",
    "    S2_long.append(l)\n",
    "S2_long = np.asarray(S2_long)\n",
    "S3_lat = np.linspace(0,90,int(91./2))\n",
    "S3_long = []\n",
    "for l in range(int(len(S3_lat))):\n",
    "    l = 380\n",
    "    S3_long.append(l)\n",
    "S3_long = np.asarray(S3_long)\n",
    "S_long = np.concatenate([S1_long,S2_long,S3_long])\n",
    "S_lat = np.concatenate([S1_lat,S2_lat,S3_lat])"
   ]
  },
  {
   "cell_type": "code",
   "execution_count": null,
   "metadata": {
    "scrolled": true
   },
   "outputs": [],
   "source": [
    "RA = []\n",
    "DEC = []\n",
    "for i in range(int(len(S_long))):\n",
    "    ra, dec = ac.convert_galactic2000_to_ra_dec(S_long[i],S_lat[i])\n",
    "    RA.append(ra)\n",
    "    DEC.append(dec)\n",
    "RA = np.asarray(RA)\n",
    "DEC = np.asarray(DEC)"
   ]
  },
  {
   "cell_type": "code",
   "execution_count": null,
   "metadata": {},
   "outputs": [],
   "source": [
    "Alt = []\n",
    "Az = []\n",
    "for i,j,l in zip(RA,DEC,range(int(len(RA)))):\n",
    "    if l%10 == 0:\n",
    "        print(l)\n",
    "    for k in range(int(len(Julian))):\n",
    "        alt, az = get_altaz(i,j,jd=Julian[k])\n",
    "        Alt.append(alt)\n",
    "        Az.append(az)\n",
    "        \n"
   ]
  },
  {
   "cell_type": "code",
   "execution_count": null,
   "metadata": {},
   "outputs": [],
   "source": [
    "Alt=np.asarray(Alt)\n",
    "Az = np.asarray(Az)"
   ]
  },
  {
   "cell_type": "code",
   "execution_count": null,
   "metadata": {},
   "outputs": [],
   "source": [
    "Alt = Alt.reshape(len(RA),len(Julian))\n",
    "Az = Az.reshape(len(DEC),len(Julian))\n",
    "plt.figure(figsize=(20,10))\n",
    "plt.plot(Az,Alt,'o', markersize =0.5)\n",
    "# plt.xlim(5,355)\n",
    "# plt.ylim(15,85)\n",
    "plt.show()"
   ]
  },
  {
   "cell_type": "code",
   "execution_count": null,
   "metadata": {},
   "outputs": [],
   "source": [
    "plt.figure(figsize=(20,10))\n",
    "plt.title('Altitude for North Polar Spur', fontsize=20)\n",
    "for i in range(int(len(Alt))):\n",
    "    plt.plot((UNIX-UNIX[0])/3600,Alt[i],'o')\n",
    "plt.ylim(15,85)\n",
    "plt.xlabel('PST time starting on April 10 at midnight ',fontsize = 20)\n",
    "plt.ylabel('Altitude [$\\degree$]',fontsize = 20)\n",
    "plt.show()"
   ]
  },
  {
   "cell_type": "code",
   "execution_count": null,
   "metadata": {},
   "outputs": [],
   "source": [
    "plt.figure(figsize=(20,10))\n",
    "for i in range(int(len(Az))):\n",
    "    plt.plot((UNIX-UNIX[0])/3600,Az[i],'o')\n",
    "plt.show()"
   ]
  },
  {
   "cell_type": "code",
   "execution_count": null,
   "metadata": {},
   "outputs": [],
   "source": [
    "BL = []\n",
    "BA = []\n",
    "for k in range(int(len(Julian))):\n",
    "    for i in range(int(len(Alt))):\n",
    "        BL.append(Alt[i][k])\n",
    "    for i in range(int(len(Az))):\n",
    "        BA.append(Az[i][k])\n",
    "BL = np.asarray(BL)\n",
    "BA = np.asarray(BA)\n",
    "\n"
   ]
  },
  {
   "cell_type": "code",
   "execution_count": null,
   "metadata": {},
   "outputs": [],
   "source": [
    "BL = BL.reshape(len(Julian),len(Alt))\n",
    "BA = BA.reshape(len(Julian),len(Az))"
   ]
  },
  {
   "cell_type": "code",
   "execution_count": null,
   "metadata": {},
   "outputs": [],
   "source": [
    "S1_Az = np.linspace(5,355,int((356-5)/2))\n",
    "S1_alt = []\n",
    "for l in range(int(len(S1_Az))):\n",
    "    l = 15\n",
    "    S1_alt.append(l)\n",
    "S2_Az = np.linspace(5,355,int((356-5)/2))\n",
    "S2_alt = []\n",
    "for l in range(int(len(S2_Az))):\n",
    "    l = 85\n",
    "    S2_alt.append(l)\n",
    "S3_alt = np.linspace(15,85,int((86-5)/2))\n",
    "S3_az = []\n",
    "for l in range(int(len(S3_alt))):\n",
    "    l = 5\n",
    "    S3_az.append(l)\n",
    "S4_alt = np.linspace(15,85,int((86-5)/2))\n",
    "S4_az = []\n",
    "for li in range(int(len(S4_alt))):\n",
    "    l = 355\n",
    "    S4_az.append(l)\n",
    "S1_alt=np.asarray(S1_alt)\n",
    "S2_alt=np.asarray(S2_alt)\n",
    "S3_az = np.asarray(S3_az)\n",
    "S4_az = np.asarray(S4_az)\n",
    "S_alt = np.concatenate([S1_alt,S2_alt,S3_alt,S4_alt])\n",
    "S_az = np.concatenate([S1_Az,S2_Az,S3_az,S4_az])"
   ]
  },
  {
   "cell_type": "code",
   "execution_count": null,
   "metadata": {},
   "outputs": [],
   "source": [
    "def plot_mwd(bound_alt,bound_az,t,Az,Alt,org=0, projection='mollweide'):\n",
    "    ''' Az, Alt are arrays of the same length.\n",
    "    Az takes values in [0,360), Alt in [-90,90],\n",
    "    which represent angles in degrees.\n",
    "    org is the origin of the plot, 0 or a multiple of 30 degrees in [0,360).\n",
    "    title is the title of the figure.\n",
    "    projection is the kind of projection: 'mollweide', 'aitoff', 'hammer', 'lambert'\n",
    "    '''\n",
    "    x = np.remainder(Az+360,360) # shift az values\n",
    "    ind = x>180\n",
    "    x[ind] -=360    # scale conversion to [-180, 180]\n",
    "    x=-x    # reverse the scale: East to the left\n",
    "    tick_labels = np.array([150, 120, 90, 60, 30, 0, 330, 300, 270, 240, 210])\n",
    "    tick_labels = np.remainder(tick_labels+360+org,360)\n",
    "    fig = plt.figure(figsize=(10, 5))\n",
    "    ax = fig.add_subplot(111, projection=projection)\n",
    "    ax.scatter(np.radians(x),np.radians(Alt))  # convert degrees to radians\n",
    "    ax.set_xticklabels(tick_labels)     # we add the scale on the x axis\n",
    "    ax.set_title('North Polar Spur at ' + str(t))\n",
    "    ax.title.set_fontsize(15)\n",
    "    ax.set_xlabel(\"Azimuth [$\\degree$]\",fontsize = 20)\n",
    "    ax.xaxis.label.set_fontsize(12)\n",
    "    ax.set_ylabel(\"Altitude [$\\degree$]\",fontsize=20)\n",
    "    ax.yaxis.label.set_fontsize(12)\n",
    "    Az_bound = np.remainder(bound_az+360,360)\n",
    "    indt = Az_bound>180\n",
    "    Az_bound[indt] -=360\n",
    "    Az_bound= -Az_bound\n",
    "    Alt_bound= bound_alt\n",
    "    ax.scatter(np.radians(Az_bound),np.radians(Alt_bound))\n",
    "    ax.grid(True)"
   ]
  },
  {
   "cell_type": "markdown",
   "metadata": {},
   "source": [
    "### Finding the optimal path "
   ]
  },
  {
   "cell_type": "code",
   "execution_count": null,
   "metadata": {},
   "outputs": [],
   "source": [
    "NPS_lat = []\n",
    "ll = 0 \n",
    "while ll < 92:\n",
    "    NPS_lat.append(ll)\n",
    "    ll = ll + 2\n",
    "NPS_long = []\n",
    "bb = 210 \n",
    "while bb < 382:\n",
    "    NPS_long.append(bb)\n",
    "    bb = bb + 2"
   ]
  },
  {
   "cell_type": "code",
   "execution_count": null,
   "metadata": {},
   "outputs": [],
   "source": [
    "NPS_lat = np.asarray(NPS_lat)\n",
    "NPS_long = np.asarray(NPS_long)"
   ]
  },
  {
   "cell_type": "code",
   "execution_count": null,
   "metadata": {},
   "outputs": [],
   "source": [
    "delta_l = 2/np.cos(np.radians(NPS_lat))"
   ]
  },
  {
   "cell_type": "code",
   "execution_count": null,
   "metadata": {},
   "outputs": [],
   "source": [
    "print(len(NPS_lat),len(NPS_long))"
   ]
  },
  {
   "cell_type": "code",
   "execution_count": null,
   "metadata": {},
   "outputs": [],
   "source": [
    "NPS_l = []\n",
    "NPS_b = []\n",
    "for i in range(int(len(NPS_lat[:-1]))):\n",
    "    l = NPS_long[0]\n",
    "    while l < NPS_long[-1] +1 : \n",
    "        NPS_l.append(l)\n",
    "        l = l + delta_l[i]\n",
    "        NPS_b.append(NPS_lat[i])\n",
    "        \n"
   ]
  },
  {
   "cell_type": "code",
   "execution_count": null,
   "metadata": {},
   "outputs": [],
   "source": [
    "NPS_l = np.asarray(NPS_l)\n",
    "NPS_b = np.asarray(NPS_b)"
   ]
  },
  {
   "cell_type": "code",
   "execution_count": null,
   "metadata": {},
   "outputs": [],
   "source": [
    "NPS_ra = []\n",
    "NPS_dec = []\n",
    "for i in range(int(len(NPS_l))):\n",
    "    ra, dec = ac.convert_galactic2000_to_ra_dec(NPS_l[i],NPS_b[i])\n",
    "    NPS_ra.append(ra)\n",
    "    NPS_dec.append(dec)\n",
    "NPS_ra = np.asarray(NPS_ra)\n",
    "NPS_dec = np.asarray(NPS_dec)"
   ]
  },
  {
   "cell_type": "code",
   "execution_count": null,
   "metadata": {},
   "outputs": [],
   "source": [
    "np.savez('NPS_coord_ra_dec',NPS_ra,NPS_dec)"
   ]
  },
  {
   "cell_type": "code",
   "execution_count": null,
   "metadata": {},
   "outputs": [],
   "source": [
    "NPS_alt = []\n",
    "NPS_az = []\n",
    "for i,j,l in zip(NPS_ra,NPS_dec,range(int(len(NPS_ra)))):\n",
    "    if l%100 == 0:\n",
    "        print(l)\n",
    "    for k in range(int(len(Julian))):\n",
    "        alt, az = get_altaz(i,j,jd=Julian[k])\n",
    "        NPS_alt.append(alt)\n",
    "        NPS_az.append(az)\n",
    "        "
   ]
  },
  {
   "cell_type": "code",
   "execution_count": null,
   "metadata": {},
   "outputs": [],
   "source": [
    "NPS_alt=np.asarray(NPS_alt)\n",
    "NPS_az = np.asarray(NPS_az)"
   ]
  },
  {
   "cell_type": "code",
   "execution_count": null,
   "metadata": {},
   "outputs": [],
   "source": [
    "NPS_alt = NPS_alt.reshape(len(NPS_ra),len(Julian))\n",
    "NPS_az = NPS_az.reshape(len(NPS_dec),len(Julian))"
   ]
  },
  {
   "cell_type": "code",
   "execution_count": null,
   "metadata": {},
   "outputs": [],
   "source": [
    "BL = []\n",
    "BA = []\n",
    "for k in range(int(len(Julian))):\n",
    "    for i in range(int(len(NPS_alt))):\n",
    "        BL.append(NPS_alt[i][k])\n",
    "    for i in range(int(len(NPS_az))):\n",
    "        BA.append(NPS_az[i][k])\n",
    "BL = np.asarray(BL)\n",
    "BA = np.asarray(BA)"
   ]
  },
  {
   "cell_type": "code",
   "execution_count": null,
   "metadata": {},
   "outputs": [],
   "source": [
    "BL = BL.reshape(len(Julian),len(NPS_alt))\n",
    "BA = BA.reshape(len(Julian),len(NPS_az))"
   ]
  },
  {
   "cell_type": "code",
   "execution_count": null,
   "metadata": {},
   "outputs": [],
   "source": [
    "plot_mwd(S_alt,S_az,TIME[50],BA[50],BL[50])"
   ]
  },
  {
   "cell_type": "code",
   "execution_count": null,
   "metadata": {},
   "outputs": [],
   "source": [
    "for i in range(int(len(TIME))):\n",
    "    plot_mwd(S_alt,S_az,TIME[i],BA[i],BL[i])\n",
    "    plt.savefig('Bound_'+str(i)+'.png')"
   ]
  },
  {
   "cell_type": "code",
   "execution_count": null,
   "metadata": {},
   "outputs": [],
   "source": [
    "yee = []\n",
    "for i in range(int(len(NPS_alt))):\n",
    "    for k in range(int(len(Julian))):\n",
    "        alt = NPS_alt[i][k]\n",
    "        az = NPS_az[i][k]\n",
    "        \n",
    "        if 15 < alt < 85 and 5 < az < 355:\n",
    "            yee.append([i,k])\n",
    "        \n",
    "    "
   ]
  },
  {
   "cell_type": "code",
   "execution_count": null,
   "metadata": {},
   "outputs": [],
   "source": []
  }
 ],
 "metadata": {
  "kernelspec": {
   "display_name": "Python 2",
   "language": "python",
   "name": "python2"
  },
  "language_info": {
   "codemirror_mode": {
    "name": "ipython",
    "version": 2
   },
   "file_extension": ".py",
   "mimetype": "text/x-python",
   "name": "python",
   "nbconvert_exporter": "python",
   "pygments_lexer": "ipython2",
   "version": "2.7.14"
  }
 },
 "nbformat": 4,
 "nbformat_minor": 2
}
